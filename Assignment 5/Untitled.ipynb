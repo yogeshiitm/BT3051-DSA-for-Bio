{
 "cells": [
  {
   "cell_type": "code",
   "execution_count": 8,
   "id": "a3124163-9176-416e-9ce4-51434ad6d98b",
   "metadata": {},
   "outputs": [
    {
     "name": "stdout",
     "output_type": "stream",
     "text": [
      "200\n"
     ]
    }
   ],
   "source": [
    "\"\"\"\n",
    "\tBT3051 Data Structures and Algorithms for Biology - 2022\n",
    "\tName - Yogesh Agarwala\n",
    "\tRoll - EE19B130\n",
    "\n",
    "\tAssignment: 5\n",
    "\tQ1. Graph Perturbation\n",
    "\"\"\"\n",
    "\n",
    "def average_degree(adjM):\n",
    "\t# adjM: n x m\n",
    "\tn = len(adjM)\n",
    "\tm = len(adjM[0])\n",
    "\n",
    "\tdegrees = []\n",
    "\tfor i in range(n):\n",
    "\t\tcnt = 0\n",
    "\t\tfor j in range(m):\n",
    "\t\t\tif(adjM[i][j]==1):\n",
    "\t\t\t\tcnt += 1\n",
    "\t\tdegrees.append(cnt)\n",
    "\n",
    "\treturn sum(degrees)/len(degrees)\n",
    "\n",
    "\n",
    "if __name__ == \"__main__\":\n",
    "\n",
    "\tadjM1 = []\n",
    "\twith open('Graph1.txt') as f:\n",
    "\t\tlines = f.readlines()\n",
    "\t\tfor line in lines:\n",
    "\t\t\tadjM1.append(line.rstrip().split(\" \"))\n",
    "\n",
    "\tadjM2 = []\n",
    "\twith open('Graph2.txt') as f:\n",
    "\t\tlines = f.readlines()\n",
    "\t\tfor line in lines:\n",
    "\t\t\tadjM2.append(line.rstrip().split(\" \"))\n",
    "\n",
    "\tadjM3 = []\n",
    "\twith open('Graph3.txt') as f:\n",
    "\t\tlines = f.readlines()\n",
    "\t\tfor line in lines:\n",
    "\t\t\tadjM3.append(line.rstrip().split(\" \"))\n",
    "\n",
    "\tprint(len(adjM2))"
   ]
  },
  {
   "cell_type": "code",
   "execution_count": null,
   "id": "6d836cdf-d443-4b02-a0c0-1bb4bbe60b5c",
   "metadata": {},
   "outputs": [],
   "source": []
  }
 ],
 "metadata": {
  "kernelspec": {
   "display_name": "Python 3 (ipykernel)",
   "language": "python",
   "name": "python3"
  },
  "language_info": {
   "codemirror_mode": {
    "name": "ipython",
    "version": 3
   },
   "file_extension": ".py",
   "mimetype": "text/x-python",
   "name": "python",
   "nbconvert_exporter": "python",
   "pygments_lexer": "ipython3",
   "version": "3.7.6"
  }
 },
 "nbformat": 4,
 "nbformat_minor": 5
}
